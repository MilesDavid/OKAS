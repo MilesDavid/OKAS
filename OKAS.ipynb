{
 "cells": [
  {
   "cell_type": "code",
   "execution_count": 2,
   "metadata": {},
   "outputs": [
    {
     "name": "stdout",
     "output_type": "stream",
     "text": [
      "fib(1000) = 43466557686937456435688527675040625802564660517371780402481729089536555417949051890403879840079255169295922593080322634775209689623239873322471161642996440906533187938298969649928516003704476137795166849228875\nms = 1\nfib(1000) = 43466557686937456435688527675040625802564660517371780402481729089536555417949051890403879840079255169295922593080322634775209689623239873322471161642996440906533187938298969649928516003704476137795166849228875\nms = 3\nfib(1000) == fib_m(1000): True\n"
     ]
    }
   ],
   "source": [
    "import fib\n",
    "import time\n",
    "\n",
    "n = 1000\n",
    "\n",
    "start_time = int(round(time.time() * 1000))\n",
    "f = fib.fib(n)\n",
    "print('fib({}) = {}'.format(n, f))\n",
    "end_time = int(round(time.time() * 1000))\n",
    "print('ms = {}'.format(end_time - start_time))\n",
    "\n",
    "start_time = int(round(time.time() * 1000))\n",
    "f_m = fib.fib_matrix(n)\n",
    "print('fib({}) = {}'.format(n, f_m))\n",
    "end_time = int(round(time.time() * 1000))\n",
    "print('ms = {}'.format(end_time - start_time))\n",
    "\n",
    "print('fib({n}) == fib_m({n}): {equal}'.format(n=n, equal=f == f_m))"
   ]
  },
  {
   "cell_type": "code",
   "execution_count": 3,
   "metadata": {},
   "outputs": [
    {
     "name": "stdout",
     "output_type": "stream",
     "text": [
      "Dataset path 'your-dataset-dir' is not exists\n"
     ]
    }
   ],
   "source": [
    "import image_averaging as img_avg\n",
    "\n",
    "img_avg.images_avg(dataset_path='your-dataset-dir')"
   ]
  }
 ],
 "metadata": {
  "kernelspec": {
   "display_name": "Python 2",
   "language": "python",
   "name": "python2"
  },
  "language_info": {
   "codemirror_mode": {
    "name": "ipython",
    "version": 2.0
   },
   "file_extension": ".py",
   "mimetype": "text/x-python",
   "name": "python",
   "nbconvert_exporter": "python",
   "pygments_lexer": "ipython2",
   "version": "2.7.6"
  }
 },
 "nbformat": 4,
 "nbformat_minor": 0
}